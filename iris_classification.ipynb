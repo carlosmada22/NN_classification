{
 "cells": [
  {
   "cell_type": "markdown",
   "id": "dc8839af-5cbd-44aa-8383-d2eab225d1c1",
   "metadata": {},
   "source": [
    "## Predicting Iris Species\n",
    "### Problem:\n",
    "- **Objective**: Predict Iris species from petal and sepal measures (Setosa, Versicolour, and Virginica). \n",
    "- **How**: Building a Feedforward Neural Network for Classification.\n",
    "- **Dataset**: Sepal Length, Sepal Width, Petal Length and Petal Width (4 features) for 150 samples (50 per class).\n",
    "- **Target variable**: Iris specie: Setosa, Versicolour, and Virginica\n",
    "\n",
    "### Steps:\n",
    "**Load the Dataset**: Iris dataset from scikit-learn ([Link Here](https://scikit-learn.org/1.5/modules/generated/sklearn.datasets.load_iris.html))\n",
    "\n",
    "**Preprocess the Data**:\n",
    "  1) Select features (X) and labels (y) from the dataset\n",
    "  2) Split data into training and testing sets\n",
    "  3) Scale input features\n",
    "  4) Normalize target\n",
    "  5) Convert features and labels to tensors\n",
    "\n",
    "**Build the Neural Network**: Feedforward Neural Network with the following layers:\n",
    "\n",
    "*Input Layer*: Match the number of input features.\n",
    "\n",
    "*Hidden Layers*: One hidden layer with ReLU activation (32 units).\n",
    "\n",
    "*Output Layer*: Three neurons for the three different categories (Setosa, Versicolour, and Virginica).\n",
    "\n",
    "**Train the Model**: \n",
    " 1) Use the Cross Entropy loss function and Adam optimizer. \n",
    " 2) Train for 400 epochs.\n",
    " 3) Calculate and print the validation loss during training.\n",
    "\n",
    "**Evaluate the Model**:  \n",
    " 1) Calculate test loss after training.\n",
    " 2) Plot training VS validation loss curves\n",
    " 3) Calculate R-squared"
   ]
  },
  {
   "cell_type": "code",
   "execution_count": 1,
   "id": "35b28c70-6bca-49ca-b6da-046c5151797d",
   "metadata": {},
   "outputs": [],
   "source": [
    "import torch\n",
    "import numpy as np\n",
    "import torch.nn as nn\n",
    "import torch.optim as optim\n",
    "from sklearn.datasets import load_iris\n",
    "from sklearn.model_selection import train_test_split\n",
    "from sklearn.preprocessing import StandardScaler\n",
    "from torch.utils.data import Dataset\n",
    "import matplotlib.pyplot as plt"
   ]
  },
  {
   "cell_type": "code",
   "execution_count": 2,
   "id": "438c293d-b8e2-46c6-9495-62b6dfcc1c94",
   "metadata": {},
   "outputs": [],
   "source": [
    "class IrisData(Dataset):\n",
    "    def __init__(self, train=True, test_size=0.2, random_state=42):\n",
    "        # Load the dataset\n",
    "        iris = load_iris()\n",
    "        X = iris.data  # Features\n",
    "        y = iris.target  # Labels (0, 1, or 2)\n",
    "\n",
    "        # Split data into training and testing sets\n",
    "        X_train, X_test, y_train, y_test = train_test_split(X, y, test_size=test_size, random_state=random_state)\n",
    "\n",
    "        # Scale input features\n",
    "        scaler_X = StandardScaler()\n",
    "        X_train_scaled = scaler_X.fit_transform(X_train)\n",
    "        X_test_scaled = scaler_X.transform(X_test)\n",
    "\n",
    "        if train:\n",
    "            self.X = X_train_scaled\n",
    "            self.y = y_train  # Normalize target\n",
    "        else:\n",
    "            self.X = X_test_scaled\n",
    "            self.y = y_test\n",
    "    \n",
    "        \n",
    "        # Convert features and labels to tensors\n",
    "        self.X = torch.tensor(self.X, dtype=torch.float32)\n",
    "        self.y = torch.tensor(self.y, dtype=torch.long)\n",
    "        \n",
    "    def __len__(self):\n",
    "        return len(self.X)\n",
    "    \n",
    "    def __getitem__(self, idx):\n",
    "        return self.X[idx], self.y[idx]"
   ]
  },
  {
   "cell_type": "code",
   "execution_count": 3,
   "id": "3f3cfce7-d039-4468-a280-b067f4d0f813",
   "metadata": {},
   "outputs": [],
   "source": [
    "train_dataset = IrisData(train=True, test_size=0.3)\n",
    "test_dataset = IrisData(train=False, test_size=0.3)"
   ]
  },
  {
   "cell_type": "code",
   "execution_count": 4,
   "id": "05dd7985-b6de-4ba6-b865-8cad85b64cef",
   "metadata": {},
   "outputs": [],
   "source": [
    "class IrisNN(nn.Module):\n",
    "    def __init__(self, input_size, output_size):\n",
    "        super(IrisNN, self).__init__()\n",
    "        # Define the layers\n",
    "        self.linear1 = nn.Linear(input_size, 32)\n",
    "        self.linear2 = nn.Linear(32, output_size)\n",
    "\n",
    "    def forward(self, x):\n",
    "        x = self.linear1(x)\n",
    "        x = torch.relu(x)\n",
    "        x = self.linear2(x)\n",
    "\n",
    "        return x\n",
    "    "
   ]
  },
  {
   "cell_type": "code",
   "execution_count": 5,
   "id": "e0660141-b6a3-4008-abe3-e6b7f5a0a96b",
   "metadata": {},
   "outputs": [],
   "source": [
    "X_train, X_val, y_train, y_val = train_test_split(train_dataset.X, train_dataset.y, test_size=0.2, random_state=42)"
   ]
  },
  {
   "cell_type": "code",
   "execution_count": 6,
   "id": "61b05cb1-9b2f-4086-909a-438e716a54bc",
   "metadata": {},
   "outputs": [
    {
     "data": {
      "text/plain": [
       "4"
      ]
     },
     "execution_count": 6,
     "metadata": {},
     "output_type": "execute_result"
    }
   ],
   "source": [
    "X_train.shape[1]"
   ]
  },
  {
   "cell_type": "code",
   "execution_count": 7,
   "id": "51515fe1-aa4f-4500-9f75-e0754d820cd2",
   "metadata": {},
   "outputs": [],
   "source": [
    "input_size = X_train.shape[1]\n",
    "output_size = 3 #nº of iris species\n",
    "model = IrisNN(input_size, output_size)"
   ]
  },
  {
   "cell_type": "code",
   "execution_count": 8,
   "id": "765fc0f3-ef7d-4468-91e7-d60854407c1b",
   "metadata": {},
   "outputs": [],
   "source": [
    "loss = nn.CrossEntropyLoss()\n",
    "optimizer = optim.Adam(model.parameters(), lr=1e-3)"
   ]
  },
  {
   "cell_type": "code",
   "execution_count": 9,
   "id": "0ce9519c-f485-41b1-a8a6-01c4e1269327",
   "metadata": {},
   "outputs": [
    {
     "name": "stdout",
     "output_type": "stream",
     "text": [
      "Epoch 0/400, Train Loss: 1.2113, Validation Loss: 1.2488\n",
      "Epoch 10/400, Train Loss: 1.1151, Validation Loss: 1.1603\n",
      "Epoch 20/400, Train Loss: 1.0261, Validation Loss: 1.0780\n",
      "Epoch 30/400, Train Loss: 0.9439, Validation Loss: 1.0017\n",
      "Epoch 40/400, Train Loss: 0.8665, Validation Loss: 0.9304\n",
      "Epoch 50/400, Train Loss: 0.7937, Validation Loss: 0.8642\n",
      "Epoch 60/400, Train Loss: 0.7261, Validation Loss: 0.8039\n",
      "Epoch 70/400, Train Loss: 0.6639, Validation Loss: 0.7494\n",
      "Epoch 80/400, Train Loss: 0.6082, Validation Loss: 0.7011\n",
      "Epoch 90/400, Train Loss: 0.5592, Validation Loss: 0.6587\n",
      "Epoch 100/400, Train Loss: 0.5163, Validation Loss: 0.6209\n",
      "Epoch 110/400, Train Loss: 0.4793, Validation Loss: 0.5880\n",
      "Epoch 120/400, Train Loss: 0.4478, Validation Loss: 0.5592\n",
      "Epoch 130/400, Train Loss: 0.4207, Validation Loss: 0.5344\n",
      "Epoch 140/400, Train Loss: 0.3970, Validation Loss: 0.5129\n",
      "Epoch 150/400, Train Loss: 0.3762, Validation Loss: 0.4941\n",
      "Epoch 160/400, Train Loss: 0.3576, Validation Loss: 0.4775\n",
      "Epoch 170/400, Train Loss: 0.3411, Validation Loss: 0.4621\n",
      "Epoch 180/400, Train Loss: 0.3259, Validation Loss: 0.4481\n",
      "Epoch 190/400, Train Loss: 0.3122, Validation Loss: 0.4349\n",
      "Epoch 200/400, Train Loss: 0.2999, Validation Loss: 0.4228\n",
      "Epoch 210/400, Train Loss: 0.2885, Validation Loss: 0.4114\n",
      "Epoch 220/400, Train Loss: 0.2778, Validation Loss: 0.4009\n",
      "Epoch 230/400, Train Loss: 0.2678, Validation Loss: 0.3911\n",
      "Epoch 240/400, Train Loss: 0.2584, Validation Loss: 0.3817\n",
      "Epoch 250/400, Train Loss: 0.2496, Validation Loss: 0.3724\n",
      "Epoch 260/400, Train Loss: 0.2411, Validation Loss: 0.3626\n",
      "Epoch 270/400, Train Loss: 0.2328, Validation Loss: 0.3527\n",
      "Epoch 280/400, Train Loss: 0.2246, Validation Loss: 0.3430\n",
      "Epoch 290/400, Train Loss: 0.2168, Validation Loss: 0.3336\n",
      "Epoch 300/400, Train Loss: 0.2093, Validation Loss: 0.3245\n",
      "Epoch 310/400, Train Loss: 0.2021, Validation Loss: 0.3157\n",
      "Epoch 320/400, Train Loss: 0.1951, Validation Loss: 0.3074\n",
      "Epoch 330/400, Train Loss: 0.1886, Validation Loss: 0.2994\n",
      "Epoch 340/400, Train Loss: 0.1822, Validation Loss: 0.2916\n",
      "Epoch 350/400, Train Loss: 0.1761, Validation Loss: 0.2840\n",
      "Epoch 360/400, Train Loss: 0.1702, Validation Loss: 0.2767\n",
      "Epoch 370/400, Train Loss: 0.1646, Validation Loss: 0.2696\n",
      "Epoch 380/400, Train Loss: 0.1592, Validation Loss: 0.2629\n",
      "Epoch 390/400, Train Loss: 0.1541, Validation Loss: 0.2564\n"
     ]
    }
   ],
   "source": [
    "epochs = 400\n",
    "\n",
    "# Lists to store losses for plotting\n",
    "train_losses = np.array([])\n",
    "val_losses = np.array([])\n",
    "\n",
    "for epoch in range(epochs):\n",
    "    model.train()\n",
    "    optimizer.zero_grad()\n",
    "\n",
    "    pred = model(X_train)\n",
    "    train_loss = loss(pred, y_train)\n",
    "\n",
    "    train_loss.backward()\n",
    "    optimizer.step()\n",
    "\n",
    "    model.eval()  # Set the model to evaluation mode\n",
    "    with torch.no_grad():  # Disable gradient computation\n",
    "        val_pred = model(X_val)\n",
    "        val_loss = loss(val_pred, y_val)\n",
    "\n",
    "    # Print training and validation loss every 10 epochs\n",
    "    if epoch % 10 == 0:\n",
    "        print(f'Epoch {epoch}/{epochs}, Train Loss: {train_loss.item():.4f}, Validation Loss: {val_loss.item():.4f}')\n",
    "\n",
    "    train_losses = np.append(train_losses, train_loss.item())\n",
    "    val_losses = np.append(val_losses, val_loss.item())"
   ]
  },
  {
   "cell_type": "code",
   "execution_count": 10,
   "id": "35a7b6fc-fa4b-4ea6-a9a7-9f5b25763d36",
   "metadata": {},
   "outputs": [
    {
     "name": "stdout",
     "output_type": "stream",
     "text": [
      "Test Loss: 0.12885312736034393\n"
     ]
    }
   ],
   "source": [
    "model.eval()\n",
    "\n",
    "with torch.no_grad():\n",
    "    predictions = model(test_dataset.X)\n",
    "    loss_fn = loss(predictions, test_dataset.y)\n",
    "test_loss = loss_fn / len(test_dataset.X)\n",
    "print(f'Test Loss: {loss_fn.item()}')"
   ]
  },
  {
   "cell_type": "code",
   "execution_count": 11,
   "id": "d387cb72-1967-4ebf-aa92-d6df11db3017",
   "metadata": {},
   "outputs": [
    {
     "data": {
      "image/png": "[encoded data removed]",
      "text/plain": [
       "<Figure size 640x480 with 1 Axes>"
      ]
     },
     "metadata": {},
     "output_type": "display_data"
    }
   ],
   "source": [
    "# Plot loss curves\n",
    "plt.plot(train_losses, label='Training Loss')\n",
    "plt.plot(val_losses, label='Validation Loss')\n",
    "plt.xlabel('Epochs')\n",
    "plt.ylabel('Loss')\n",
    "plt.legend()\n",
    "plt.show()"
   ]
  },
  {
   "cell_type": "code",
   "execution_count": 13,
   "id": "74a394cd-7e29-4de2-8134-b802ea732890",
   "metadata": {},
   "outputs": [],
   "source": [
    "_, predicted = torch.max(predictions, 1)"
   ]
  },
  {
   "cell_type": "code",
   "execution_count": 14,
   "id": "bda9e5a4-85e9-4ef6-ae94-424747e700ae",
   "metadata": {},
   "outputs": [
    {
     "data": {
      "text/plain": [
       "tensor([1, 0, 2, 1, 1, 0, 1, 2, 1, 1, 2, 0, 0, 0, 0, 1, 2, 1, 1, 2, 0, 2, 0, 2,\n",
       "        2, 2, 2, 2, 0, 0, 0, 0, 1, 0, 0, 2, 1, 0, 0, 0, 2, 1, 1, 0, 0])"
      ]
     },
     "execution_count": 14,
     "metadata": {},
     "output_type": "execute_result"
    }
   ],
   "source": [
    "predicted"
   ]
  },
  {
   "cell_type": "code",
   "execution_count": 15,
   "id": "72f3b14e-58a2-40d7-ba8d-2fe75ed67d03",
   "metadata": {},
   "outputs": [
    {
     "name": "stdout",
     "output_type": "stream",
     "text": [
      "R-squared: 1.0000\n"
     ]
    }
   ],
   "source": [
    "from sklearn.metrics import r2_score\n",
    "r2 = r2_score(test_dataset.y, predicted)\n",
    "print(f\"R-squared: {r2:.4f}\")"
   ]
  },
  {
   "cell_type": "code",
   "execution_count": null,
   "id": "057b55b4-fc7b-4eff-989d-36794807d910",
   "metadata": {},
   "outputs": [],
   "source": []
  }
 ],
 "metadata": {
  "kernelspec": {
   "display_name": "Python 3 (ipykernel)",
   "language": "python",
   "name": "python3"
  },
  "language_info": {
   "codemirror_mode": {
    "name": "ipython",
    "version": 3
   },
   "file_extension": ".py",
   "mimetype": "text/x-python",
   "name": "python",
   "nbconvert_exporter": "python",
   "pygments_lexer": "ipython3",
   "version": "3.10.9"
  }
 },
 "nbformat": 4,
 "nbformat_minor": 5
}
